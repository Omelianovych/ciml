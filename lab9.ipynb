{
 "cells": [
  {
   "cell_type": "markdown",
   "metadata": {},
   "source": [
    "Тема 5: Метод K-найближчих сусідів в системах машинного навчання\n",
    "Реалізувати алгоритм К найближчих сусідів на одному з датасетів\n",
    "https://www.kaggle.com/datasets?search=security, визначити його переваги та недоліки, дослідити\n",
    "залежність точності алгоритму від особливостей використаного датасету."
   ]
  },
  {
   "cell_type": "code",
   "execution_count": null,
   "metadata": {
    "vscode": {
     "languageId": "plaintext"
    }
   },
   "outputs": [],
   "source": []
  }
 ],
 "metadata": {
  "language_info": {
   "name": "python"
  }
 },
 "nbformat": 4,
 "nbformat_minor": 2
}
